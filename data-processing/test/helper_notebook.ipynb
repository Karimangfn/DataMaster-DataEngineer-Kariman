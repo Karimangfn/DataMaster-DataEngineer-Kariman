print("Executando notebook auxiliar")

dbutils.notebook.exit("Sucesso do helper!")
