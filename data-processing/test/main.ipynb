{
 "cells": [
  {
   "cell_type": "code",
   "source": [
    "print(\"Executando notebook auxiliar\")\n",
    "dbutils.notebook.exit(\"Sucesso do helper!\")"
   ],
   "metadata": {},
   "execution_count": null,
   "outputs": []
  }
 ],
 "metadata": {
  "language": "python",
  "databricks": {
    "language": "python"
  }
 },
 "nbformat": 4,
 "nbformat_minor": 0
}
