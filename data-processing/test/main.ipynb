print("Executando notebook principal")

result = dbutils.notebook.run("helper_notebook", 60)
print(f"Resultado do notebook auxiliar: {result}")
