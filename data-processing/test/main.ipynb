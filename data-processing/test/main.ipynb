{
 "cells": [
  {
   "cell_type": "code",
   "source": [
    "print(\"Executando notebook principal\")\n",
    "resultado = dbutils.notebook.run(\"helper_notebook\", 60)\n",
    "print(f\"Resultado do helper: {resultado}\")"
   ],
   "metadata": {},
   "execution_count": null,
   "outputs": []
  }
 ],
 "metadata": {
  "language": "python",
  "databricks": {
    "language": "python"
  }
 },
 "nbformat": 4,
 "nbformat_minor": 0
}
